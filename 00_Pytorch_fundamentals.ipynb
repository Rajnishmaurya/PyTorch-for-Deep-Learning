{
  "cells": [
    {
      "cell_type": "code",
      "execution_count": 73,
      "metadata": {
        "id": "taCTM-KIFnMi"
      },
      "outputs": [],
      "source": [
        "## Pytorch fundamentals"
      ]
    },
    {
      "cell_type": "markdown",
      "metadata": {
        "id": "f51jCr7xHUqv"
      },
      "source": [
        "Why use Pytorch?  \n",
        "PyTorch helps take care of many things such as GPU acceleration (making your code run faster) behind the scenes."
      ]
    },
    {
      "cell_type": "code",
      "execution_count": 74,
      "metadata": {
        "colab": {
          "base_uri": "https://localhost:8080/"
        },
        "id": "VfkkYSrQEuO6",
        "outputId": "a24bca51-3b96-4bf4-e85d-019a0d1d7e51"
      },
      "outputs": [
        {
          "name": "stdout",
          "output_type": "stream",
          "text": [
            "I am excited to learn pytorch\n"
          ]
        }
      ],
      "source": [
        "print(\"I am excited to learn pytorch\")"
      ]
    },
    {
      "cell_type": "code",
      "execution_count": 75,
      "metadata": {
        "colab": {
          "base_uri": "https://localhost:8080/",
          "height": 36
        },
        "id": "jkcTSTTpH2X-",
        "outputId": "669413c0-24ad-4f6a-98bd-3553d4a70a97"
      },
      "outputs": [
        {
          "data": {
            "application/vnd.google.colaboratory.intrinsic+json": {
              "type": "string"
            },
            "text/plain": [
              "'2.5.1+cu121'"
            ]
          },
          "execution_count": 75,
          "metadata": {},
          "output_type": "execute_result"
        }
      ],
      "source": [
        "import torch\n",
        "torch.__version__"
      ]
    },
    {
      "cell_type": "markdown",
      "metadata": {
        "id": "oIHpWK1QIH8C"
      },
      "source": [
        "Tensors are the fundamental building block of machine learning."
      ]
    },
    {
      "cell_type": "code",
      "execution_count": 76,
      "metadata": {
        "colab": {
          "base_uri": "https://localhost:8080/"
        },
        "id": "gRKKuai0FJYw",
        "outputId": "fd0401d8-0d2d-457c-987a-ecb7c8dc55f1"
      },
      "outputs": [
        {
          "name": "stdout",
          "output_type": "stream",
          "text": [
            "2.5.1+cu121\n"
          ]
        }
      ],
      "source": [
        "import torch\n",
        "import pandas as pd\n",
        "import numpy as np\n",
        "import matplotlib.pyplot as plt\n",
        "print(torch.__version__)"
      ]
    },
    {
      "cell_type": "code",
      "execution_count": 77,
      "metadata": {
        "colab": {
          "base_uri": "https://localhost:8080/"
        },
        "id": "3lM-2WooFa-T",
        "outputId": "61adc665-adc5-4f99-f338-edce3c6def7c"
      },
      "outputs": [
        {
          "name": "stdout",
          "output_type": "stream",
          "text": [
            "/bin/bash: line 1: nvidia-smi: command not found\n"
          ]
        }
      ],
      "source": [
        "!nvidia-smi"
      ]
    },
    {
      "cell_type": "code",
      "execution_count": 78,
      "metadata": {
        "id": "lj_QXalCGnY_"
      },
      "outputs": [],
      "source": [
        "## Introduction to tensors\n",
        "\n",
        "## Creating tensors"
      ]
    },
    {
      "cell_type": "code",
      "execution_count": 79,
      "metadata": {
        "colab": {
          "base_uri": "https://localhost:8080/"
        },
        "id": "XdqYSvtfH1Qv",
        "outputId": "d6fcc987-9473-48aa-fa98-5c9c7b9dbaaa"
      },
      "outputs": [
        {
          "data": {
            "text/plain": [
              "tensor(7)"
            ]
          },
          "execution_count": 79,
          "metadata": {},
          "output_type": "execute_result"
        }
      ],
      "source": [
        "# scalar tensor\n",
        "scalar=torch.tensor(7)\n",
        "scalar"
      ]
    },
    {
      "cell_type": "code",
      "execution_count": 80,
      "metadata": {
        "colab": {
          "base_uri": "https://localhost:8080/"
        },
        "id": "gLDkPxucH-95",
        "outputId": "42b2d16f-c18e-43dd-d1f8-8dc5fca09189"
      },
      "outputs": [
        {
          "data": {
            "text/plain": [
              "0"
            ]
          },
          "execution_count": 80,
          "metadata": {},
          "output_type": "execute_result"
        }
      ],
      "source": [
        "scalar.ndim"
      ]
    },
    {
      "cell_type": "code",
      "execution_count": 81,
      "metadata": {
        "colab": {
          "base_uri": "https://localhost:8080/"
        },
        "id": "3mKBbYw7IPPD",
        "outputId": "62c26ce4-cd57-4a10-fe46-1ce05cea5ff4"
      },
      "outputs": [
        {
          "data": {
            "text/plain": [
              "7"
            ]
          },
          "execution_count": 81,
          "metadata": {},
          "output_type": "execute_result"
        }
      ],
      "source": [
        "# get tensor back as python int\n",
        "scalar.item()"
      ]
    },
    {
      "cell_type": "code",
      "execution_count": 82,
      "metadata": {
        "colab": {
          "base_uri": "https://localhost:8080/"
        },
        "id": "A9Do4_IGIlfW",
        "outputId": "0d67a852-6c68-43c8-d94d-94f91549d166"
      },
      "outputs": [
        {
          "data": {
            "text/plain": [
              "tensor([7, 7])"
            ]
          },
          "execution_count": 82,
          "metadata": {},
          "output_type": "execute_result"
        }
      ],
      "source": [
        "# Vector: a vector is a single dimension tensor but can contain many numbers\n",
        "\n",
        "vector=torch.tensor([7,7])\n",
        "vector"
      ]
    },
    {
      "cell_type": "code",
      "execution_count": 83,
      "metadata": {
        "colab": {
          "base_uri": "https://localhost:8080/"
        },
        "id": "fYbbbhhvMChW",
        "outputId": "5c1394ab-30b3-4bf6-bff4-f0276761a54e"
      },
      "outputs": [
        {
          "data": {
            "text/plain": [
              "1"
            ]
          },
          "execution_count": 83,
          "metadata": {},
          "output_type": "execute_result"
        }
      ],
      "source": [
        "vector.ndim"
      ]
    },
    {
      "cell_type": "code",
      "execution_count": 84,
      "metadata": {
        "colab": {
          "base_uri": "https://localhost:8080/"
        },
        "id": "AwwcvJUtMPAU",
        "outputId": "7ce3662b-be85-4791-b70f-ccbc529948c1"
      },
      "outputs": [
        {
          "data": {
            "text/plain": [
              "torch.Size([2])"
            ]
          },
          "execution_count": 84,
          "metadata": {},
          "output_type": "execute_result"
        }
      ],
      "source": [
        "vector.shape"
      ]
    },
    {
      "cell_type": "code",
      "execution_count": 85,
      "metadata": {
        "colab": {
          "base_uri": "https://localhost:8080/"
        },
        "id": "7owG_9mhMTRe",
        "outputId": "5e2cd2df-fe73-462b-a17c-97a7e7961182"
      },
      "outputs": [
        {
          "data": {
            "text/plain": [
              "tensor([[2, 3],\n",
              "        [5, 6]])"
            ]
          },
          "execution_count": 85,
          "metadata": {},
          "output_type": "execute_result"
        }
      ],
      "source": [
        "# Matrix\n",
        "MATRIX=torch.tensor([[2,3],[5,6]])\n",
        "MATRIX"
      ]
    },
    {
      "cell_type": "code",
      "execution_count": 86,
      "metadata": {
        "colab": {
          "base_uri": "https://localhost:8080/"
        },
        "id": "n3KxqYOQMhgV",
        "outputId": "30edc63c-48ee-4ec7-8245-a8ea213f384c"
      },
      "outputs": [
        {
          "data": {
            "text/plain": [
              "torch.Size([2, 2])"
            ]
          },
          "execution_count": 86,
          "metadata": {},
          "output_type": "execute_result"
        }
      ],
      "source": [
        "MATRIX.shape"
      ]
    },
    {
      "cell_type": "code",
      "execution_count": 87,
      "metadata": {
        "colab": {
          "base_uri": "https://localhost:8080/"
        },
        "id": "D9XUsrWjMjJu",
        "outputId": "4e2ce6eb-c024-439b-fdae-388b1f1ddce1"
      },
      "outputs": [
        {
          "data": {
            "text/plain": [
              "2"
            ]
          },
          "execution_count": 87,
          "metadata": {},
          "output_type": "execute_result"
        }
      ],
      "source": [
        "MATRIX.ndim"
      ]
    },
    {
      "cell_type": "code",
      "execution_count": 88,
      "metadata": {
        "colab": {
          "base_uri": "https://localhost:8080/"
        },
        "id": "c0aatrRAMkMi",
        "outputId": "a40298a2-be04-4e35-86c1-99803da57dda"
      },
      "outputs": [
        {
          "data": {
            "text/plain": [
              "tensor([2, 3])"
            ]
          },
          "execution_count": 88,
          "metadata": {},
          "output_type": "execute_result"
        }
      ],
      "source": [
        "MATRIX[0]"
      ]
    },
    {
      "cell_type": "code",
      "execution_count": 89,
      "metadata": {
        "colab": {
          "base_uri": "https://localhost:8080/"
        },
        "id": "eTL6-XnEMsrt",
        "outputId": "7edf42c1-ed0b-4f85-f302-e8030baa709a"
      },
      "outputs": [
        {
          "data": {
            "text/plain": [
              "tensor([5, 6])"
            ]
          },
          "execution_count": 89,
          "metadata": {},
          "output_type": "execute_result"
        }
      ],
      "source": [
        "MATRIX[1]"
      ]
    },
    {
      "cell_type": "code",
      "execution_count": 90,
      "metadata": {
        "colab": {
          "base_uri": "https://localhost:8080/"
        },
        "id": "PIGf9WWrJBhK",
        "outputId": "aed68c44-fad4-49ec-e1ee-fb7e752b8b4b"
      },
      "outputs": [
        {
          "data": {
            "text/plain": [
              "tensor(6)"
            ]
          },
          "execution_count": 90,
          "metadata": {},
          "output_type": "execute_result"
        }
      ],
      "source": [
        "MATRIX[1][1]"
      ]
    },
    {
      "cell_type": "code",
      "execution_count": 91,
      "metadata": {
        "colab": {
          "base_uri": "https://localhost:8080/"
        },
        "id": "fR-LEBvzMt7W",
        "outputId": "97650689-9190-41bb-bcaf-ad303c67ca1b"
      },
      "outputs": [
        {
          "data": {
            "text/plain": [
              "tensor([[[1, 2, 3],\n",
              "         [5, 6, 7]],\n",
              "\n",
              "        [[3, 4, 5],\n",
              "         [6, 7, 8]]])"
            ]
          },
          "execution_count": 91,
          "metadata": {},
          "output_type": "execute_result"
        }
      ],
      "source": [
        "# tensor\n",
        "TENSOR=torch.tensor([[[1,2,3],[5,6,7]],\n",
        "                     [[3,4,5],[6,7,8]]])\n",
        "TENSOR\n"
      ]
    },
    {
      "cell_type": "code",
      "execution_count": 92,
      "metadata": {
        "colab": {
          "base_uri": "https://localhost:8080/"
        },
        "id": "Oou-Gu9QNHOG",
        "outputId": "27d35750-cca1-429c-9962-095eb8ef7d70"
      },
      "outputs": [
        {
          "data": {
            "text/plain": [
              "torch.Size([2, 2, 3])"
            ]
          },
          "execution_count": 92,
          "metadata": {},
          "output_type": "execute_result"
        }
      ],
      "source": [
        "TENSOR.shape"
      ]
    },
    {
      "cell_type": "code",
      "execution_count": 93,
      "metadata": {
        "colab": {
          "base_uri": "https://localhost:8080/"
        },
        "id": "FTA80t1gNa-y",
        "outputId": "bdaae7b1-daca-47dd-b5ec-309441b3d8c6"
      },
      "outputs": [
        {
          "data": {
            "text/plain": [
              "3"
            ]
          },
          "execution_count": 93,
          "metadata": {},
          "output_type": "execute_result"
        }
      ],
      "source": [
        "TENSOR.ndim"
      ]
    },
    {
      "cell_type": "code",
      "execution_count": 94,
      "metadata": {
        "colab": {
          "base_uri": "https://localhost:8080/"
        },
        "id": "vLbh7U9hNcnE",
        "outputId": "f1c303a5-439c-4c66-ce44-b36f2ffa8bd7"
      },
      "outputs": [
        {
          "data": {
            "text/plain": [
              "tensor([[1, 2, 3],\n",
              "        [5, 6, 7]])"
            ]
          },
          "execution_count": 94,
          "metadata": {},
          "output_type": "execute_result"
        }
      ],
      "source": [
        "TENSOR[0]"
      ]
    },
    {
      "cell_type": "code",
      "execution_count": 95,
      "metadata": {
        "colab": {
          "base_uri": "https://localhost:8080/"
        },
        "id": "mq2JbzeSNfP2",
        "outputId": "e508c57b-2652-4896-e10b-8a5eb46f1de6"
      },
      "outputs": [
        {
          "data": {
            "text/plain": [
              "tensor([[3, 4, 5],\n",
              "        [6, 7, 8]])"
            ]
          },
          "execution_count": 95,
          "metadata": {},
          "output_type": "execute_result"
        }
      ],
      "source": [
        "TENSOR[1]"
      ]
    },
    {
      "cell_type": "code",
      "execution_count": 96,
      "metadata": {
        "colab": {
          "base_uri": "https://localhost:8080/"
        },
        "id": "3ml38ifENhE4",
        "outputId": "ccfc9adc-37d9-489c-bc9f-6bde5539ad0b"
      },
      "outputs": [
        {
          "data": {
            "text/plain": [
              "tensor([5, 6, 7])"
            ]
          },
          "execution_count": 96,
          "metadata": {},
          "output_type": "execute_result"
        }
      ],
      "source": [
        "TENSOR[0][1]"
      ]
    },
    {
      "cell_type": "markdown",
      "metadata": {
        "id": "oEV8glTaQoc0"
      },
      "source": [
        "# Random tensors\n",
        "\n",
        "\n",
        "  why random tensors?\n",
        "\n",
        "  Random tensors are important because the way many neural networks learn is that they start with tensors full of random numbers and then adjust those random numbers to better represent the data"
      ]
    },
    {
      "cell_type": "code",
      "execution_count": 97,
      "metadata": {
        "colab": {
          "base_uri": "https://localhost:8080/"
        },
        "id": "aMSHrOZRQmNr",
        "outputId": "dfdeef82-db34-4de9-909a-c6f1bb9fee3b"
      },
      "outputs": [
        {
          "data": {
            "text/plain": [
              "(tensor([[0.5802, 0.6191, 0.2372, 0.6137],\n",
              "         [0.1218, 0.0635, 0.6794, 0.2473],\n",
              "         [0.1606, 0.0617, 0.1828, 0.6408]]),\n",
              " torch.float32,\n",
              " 2,\n",
              " torch.Size([3, 4]))"
            ]
          },
          "execution_count": 97,
          "metadata": {},
          "output_type": "execute_result"
        }
      ],
      "source": [
        "# Create a random tensors with pytorch\n",
        "random_tensor=torch.rand(size=(3,4))\n",
        "random_tensor,random_tensor.dtype,random_tensor.ndim,random_tensor.shape"
      ]
    },
    {
      "cell_type": "code",
      "execution_count": 98,
      "metadata": {
        "colab": {
          "base_uri": "https://localhost:8080/"
        },
        "id": "PNv8n3K4Rd1A",
        "outputId": "7354980f-b746-4bf0-c3cc-e1d00939ea1f"
      },
      "outputs": [
        {
          "data": {
            "text/plain": [
              "2"
            ]
          },
          "execution_count": 98,
          "metadata": {},
          "output_type": "execute_result"
        }
      ],
      "source": [
        "random_tensor.ndim"
      ]
    },
    {
      "cell_type": "code",
      "execution_count": 99,
      "metadata": {
        "colab": {
          "base_uri": "https://localhost:8080/"
        },
        "id": "sJGFanmkRq6b",
        "outputId": "a5544efe-fe0a-4d36-f201-1e7239368540"
      },
      "outputs": [
        {
          "data": {
            "text/plain": [
              "torch.Size([3, 4])"
            ]
          },
          "execution_count": 99,
          "metadata": {},
          "output_type": "execute_result"
        }
      ],
      "source": [
        "random_tensor.shape"
      ]
    },
    {
      "cell_type": "code",
      "execution_count": 100,
      "metadata": {
        "colab": {
          "base_uri": "https://localhost:8080/"
        },
        "id": "f446J4jZRsM3",
        "outputId": "24f7cd63-8eff-4518-b9ad-48a547767788"
      },
      "outputs": [
        {
          "data": {
            "text/plain": [
              "tensor([0.5802, 0.6191, 0.2372, 0.6137])"
            ]
          },
          "execution_count": 100,
          "metadata": {},
          "output_type": "execute_result"
        }
      ],
      "source": [
        "random_tensor[0]"
      ]
    },
    {
      "cell_type": "code",
      "execution_count": 101,
      "metadata": {
        "colab": {
          "base_uri": "https://localhost:8080/"
        },
        "id": "kB4IQ27pKRQG",
        "outputId": "c1466101-b957-4607-f8a3-1c3ae11bd7e0"
      },
      "outputs": [
        {
          "data": {
            "text/plain": [
              "tensor(0.6794)"
            ]
          },
          "execution_count": 101,
          "metadata": {},
          "output_type": "execute_result"
        }
      ],
      "source": [
        "random_tensor[1][2]"
      ]
    },
    {
      "cell_type": "code",
      "execution_count": 102,
      "metadata": {
        "colab": {
          "base_uri": "https://localhost:8080/"
        },
        "id": "o974C6eWRvGh",
        "outputId": "cb8f9ddb-0c06-45b9-fa22-b56727d34624"
      },
      "outputs": [
        {
          "data": {
            "text/plain": [
              "tensor([[[0.2888, 0.6166, 0.1952,  ..., 0.5276, 0.1974, 0.6465],\n",
              "         [0.9707, 0.2999, 0.6473,  ..., 0.4698, 0.1765, 0.5435],\n",
              "         [0.8052, 0.3595, 0.8786,  ..., 0.9991, 0.8750, 0.9045],\n",
              "         ...,\n",
              "         [0.9727, 0.5915, 0.2175,  ..., 0.8877, 0.8375, 0.6910],\n",
              "         [0.7746, 0.5512, 0.6642,  ..., 0.9169, 0.1943, 0.1147],\n",
              "         [0.2125, 0.3716, 0.3365,  ..., 0.7666, 0.8202, 0.3008]],\n",
              "\n",
              "        [[0.0594, 0.1603, 0.4893,  ..., 0.8441, 0.0695, 0.6478],\n",
              "         [0.6829, 0.0494, 0.5858,  ..., 0.4195, 0.9216, 0.6398],\n",
              "         [0.1068, 0.4154, 0.1886,  ..., 0.3571, 0.4250, 0.0066],\n",
              "         ...,\n",
              "         [0.9032, 0.2346, 0.3518,  ..., 0.4143, 0.6267, 0.7931],\n",
              "         [0.6287, 0.1919, 0.2580,  ..., 0.4419, 0.3287, 0.5381],\n",
              "         [0.7124, 0.8997, 0.9666,  ..., 0.4629, 0.0341, 0.0698]],\n",
              "\n",
              "        [[0.5543, 0.2590, 0.6815,  ..., 0.8274, 0.8889, 0.6655],\n",
              "         [0.4573, 0.2849, 0.5455,  ..., 0.5954, 0.0787, 0.8411],\n",
              "         [0.0615, 0.2669, 0.9574,  ..., 0.7451, 0.4761, 0.7542],\n",
              "         ...,\n",
              "         [0.9973, 0.6437, 0.9022,  ..., 0.1445, 0.0690, 0.2370],\n",
              "         [0.2844, 0.6889, 0.5780,  ..., 0.6633, 0.5825, 0.4761],\n",
              "         [0.1998, 0.0510, 0.1941,  ..., 0.9182, 0.3664, 0.9956]]])"
            ]
          },
          "execution_count": 102,
          "metadata": {},
          "output_type": "execute_result"
        }
      ],
      "source": [
        "# Create a random tensor with similar shape to an image tensor\n",
        "random_image_size_tensor=torch.rand(size=(3,224,224))\n",
        "random_image_size_tensor"
      ]
    },
    {
      "cell_type": "code",
      "execution_count": 103,
      "metadata": {
        "colab": {
          "base_uri": "https://localhost:8080/"
        },
        "id": "KSmEabLlSQ-n",
        "outputId": "9e281a5e-37b5-4ef6-80fb-ca46353149b8"
      },
      "outputs": [
        {
          "data": {
            "text/plain": [
              "torch.Size([3, 224, 224])"
            ]
          },
          "execution_count": 103,
          "metadata": {},
          "output_type": "execute_result"
        }
      ],
      "source": [
        "random_image_size_tensor.shape"
      ]
    },
    {
      "cell_type": "code",
      "execution_count": 104,
      "metadata": {
        "colab": {
          "base_uri": "https://localhost:8080/"
        },
        "id": "BK1YVEXeSllU",
        "outputId": "df9a9ab3-9b94-416e-85dd-682f7d70d564"
      },
      "outputs": [
        {
          "data": {
            "text/plain": [
              "3"
            ]
          },
          "execution_count": 104,
          "metadata": {},
          "output_type": "execute_result"
        }
      ],
      "source": [
        "random_image_size_tensor.ndim"
      ]
    },
    {
      "cell_type": "code",
      "execution_count": 105,
      "metadata": {
        "colab": {
          "base_uri": "https://localhost:8080/"
        },
        "id": "NtCPDGqLSmoy",
        "outputId": "9bf86a45-93be-4786-c104-266b19e8258e"
      },
      "outputs": [
        {
          "data": {
            "text/plain": [
              "tensor([[0., 0., 0.],\n",
              "        [0., 0., 0.],\n",
              "        [0., 0., 0.],\n",
              "        [0., 0., 0.]])"
            ]
          },
          "execution_count": 105,
          "metadata": {},
          "output_type": "execute_result"
        }
      ],
      "source": [
        "# Creating tensors with ones and zeros\n",
        "zero=torch.zeros(size=(4,3))\n",
        "zero"
      ]
    },
    {
      "cell_type": "code",
      "execution_count": 106,
      "metadata": {
        "colab": {
          "base_uri": "https://localhost:8080/"
        },
        "id": "H8bflMZZTWzO",
        "outputId": "e0fba8b6-8eaf-4aaa-d730-f86e805c3425"
      },
      "outputs": [
        {
          "data": {
            "text/plain": [
              "tensor([[1., 1., 1., 1., 1., 1.],\n",
              "        [1., 1., 1., 1., 1., 1.],\n",
              "        [1., 1., 1., 1., 1., 1.],\n",
              "        [1., 1., 1., 1., 1., 1.],\n",
              "        [1., 1., 1., 1., 1., 1.]])"
            ]
          },
          "execution_count": 106,
          "metadata": {},
          "output_type": "execute_result"
        }
      ],
      "source": [
        "ones=torch.ones(size=(5,6))\n",
        "ones"
      ]
    },
    {
      "cell_type": "code",
      "execution_count": 107,
      "metadata": {
        "colab": {
          "base_uri": "https://localhost:8080/"
        },
        "id": "VRguf7MiTZrJ",
        "outputId": "f489cccc-e43b-4018-e106-7ff05daf1c7c"
      },
      "outputs": [
        {
          "data": {
            "text/plain": [
              "torch.float32"
            ]
          },
          "execution_count": 107,
          "metadata": {},
          "output_type": "execute_result"
        }
      ],
      "source": [
        "ones.dtype"
      ]
    },
    {
      "cell_type": "code",
      "execution_count": 108,
      "metadata": {
        "colab": {
          "base_uri": "https://localhost:8080/"
        },
        "id": "ArFC8c1ITpj-",
        "outputId": "816a373a-e57b-4dae-8e44-993704090a8e"
      },
      "outputs": [
        {
          "data": {
            "text/plain": [
              "2"
            ]
          },
          "execution_count": 108,
          "metadata": {},
          "output_type": "execute_result"
        }
      ],
      "source": [
        "ones.ndim"
      ]
    },
    {
      "cell_type": "code",
      "execution_count": 109,
      "metadata": {
        "colab": {
          "base_uri": "https://localhost:8080/"
        },
        "id": "41ZNra7qK_O3",
        "outputId": "c5cd7577-5c00-4f9e-fe00-dd5959724ab6"
      },
      "outputs": [
        {
          "data": {
            "text/plain": [
              "2"
            ]
          },
          "execution_count": 109,
          "metadata": {},
          "output_type": "execute_result"
        }
      ],
      "source": [
        "zero.ndim"
      ]
    },
    {
      "cell_type": "markdown",
      "metadata": {
        "id": "9K4igwklLJk2"
      },
      "source": [
        "Creating a range and tensors like"
      ]
    },
    {
      "cell_type": "code",
      "execution_count": 110,
      "metadata": {
        "colab": {
          "base_uri": "https://localhost:8080/"
        },
        "id": "AtPAF348LBRo",
        "outputId": "5e28da4f-736e-4a61-db8c-7d06d15b860b"
      },
      "outputs": [
        {
          "data": {
            "text/plain": [
              "tensor([0, 1, 2, 3, 4, 5, 6, 7, 8, 9])"
            ]
          },
          "execution_count": 110,
          "metadata": {},
          "output_type": "execute_result"
        }
      ],
      "source": [
        "# use torch.arange(), torch.range() is deprecated\n",
        "\n",
        "zero_to_ten=torch.arange(0,10,1)\n",
        "zero_to_ten"
      ]
    },
    {
      "cell_type": "code",
      "execution_count": 111,
      "metadata": {
        "colab": {
          "base_uri": "https://localhost:8080/"
        },
        "id": "ZQYzhHMlLdeh",
        "outputId": "424075f8-c569-43c0-e5d4-f3a953ee1862"
      },
      "outputs": [
        {
          "data": {
            "text/plain": [
              "tensor([0, 0, 0, 0, 0, 0, 0, 0, 0, 0])"
            ]
          },
          "execution_count": 111,
          "metadata": {},
          "output_type": "execute_result"
        }
      ],
      "source": [
        "ten_zeros=torch.zeros_like(zero_to_ten)\n",
        "ten_zeros"
      ]
    },
    {
      "cell_type": "markdown",
      "metadata": {
        "id": "NDo8PZKuN-lT"
      },
      "source": [
        "Tensor Datatypes"
      ]
    },
    {
      "cell_type": "code",
      "execution_count": 112,
      "metadata": {
        "colab": {
          "base_uri": "https://localhost:8080/"
        },
        "id": "HQNooYt2NS3f",
        "outputId": "57262bfe-c3a6-40cc-b314-f2507dba0c3c"
      },
      "outputs": [
        {
          "data": {
            "text/plain": [
              "(tensor([3., 6., 9.]), torch.Size([3]), 1)"
            ]
          },
          "execution_count": 112,
          "metadata": {},
          "output_type": "execute_result"
        }
      ],
      "source": [
        "float_32_tensor=torch.tensor([3.0,6.0,9.0],\n",
        "                             dtype=None,\n",
        "                             device=None,\n",
        "                             requires_grad=False)\n",
        "float_32_tensor, float_32_tensor.shape,float_32_tensor.ndim"
      ]
    },
    {
      "cell_type": "code",
      "execution_count": 113,
      "metadata": {
        "colab": {
          "base_uri": "https://localhost:8080/"
        },
        "id": "15fEr8txOjgy",
        "outputId": "72794e48-becb-4cc2-8d65-197968d7d997"
      },
      "outputs": [
        {
          "data": {
            "text/plain": [
              "(torch.float32, device(type='cpu'))"
            ]
          },
          "execution_count": 113,
          "metadata": {},
          "output_type": "execute_result"
        }
      ],
      "source": [
        "float_32_tensor.dtype,float_32_tensor.device"
      ]
    },
    {
      "cell_type": "markdown",
      "metadata": {
        "id": "tFq9bWRjO4hY"
      },
      "source": [
        "PyTorch likes calculations between tensors to be on the same device"
      ]
    },
    {
      "cell_type": "code",
      "execution_count": 114,
      "metadata": {
        "colab": {
          "base_uri": "https://localhost:8080/"
        },
        "id": "5IEnmoprOmy8",
        "outputId": "55f524ee-4bf6-49a6-aa51-226dc25d1d73"
      },
      "outputs": [
        {
          "data": {
            "text/plain": [
              "torch.float16"
            ]
          },
          "execution_count": 114,
          "metadata": {},
          "output_type": "execute_result"
        }
      ],
      "source": [
        "float_16_tensor = torch.tensor([3.0, 6.0, 9.0],\n",
        "                               dtype=torch.float16) # torch.half would also work\n",
        "float_16_tensor.dtype"
      ]
    },
    {
      "cell_type": "code",
      "execution_count": 115,
      "metadata": {
        "colab": {
          "base_uri": "https://localhost:8080/"
        },
        "id": "bMTOOhWmPBva",
        "outputId": "724952c3-be0f-47d9-bd04-d5f8e93cb989"
      },
      "outputs": [
        {
          "name": "stdout",
          "output_type": "stream",
          "text": [
            "tensor([[ 1.8189,  0.8429, -1.4400,  0.9549],\n",
            "        [ 1.6657,  0.1269, -0.4896, -0.8711],\n",
            "        [ 0.0946,  0.6275,  1.7424, -1.6162]])\n",
            "Shape of tensor :torch.Size([3, 4])\n",
            "Datatype of a tensor: torch.float32\n",
            "Device tensor is stored on : cpu\n"
          ]
        }
      ],
      "source": [
        "tensor=torch.randn(size=(3,4))\n",
        "\n",
        "print(tensor)\n",
        "print(f\"Shape of tensor :{tensor.shape}\")\n",
        "print(f\"Datatype of a tensor: {tensor.dtype}\")\n",
        "print(f\"Device tensor is stored on : {tensor.device}\")"
      ]
    },
    {
      "cell_type": "markdown",
      "metadata": {
        "id": "JqCd7j53SK11"
      },
      "source": [
        "Manipulating Tensor"
      ]
    },
    {
      "cell_type": "code",
      "execution_count": 116,
      "metadata": {
        "colab": {
          "base_uri": "https://localhost:8080/"
        },
        "id": "a8g7LYBQPQUi",
        "outputId": "b10d3363-aeaa-4e68-9dd7-50defe577711"
      },
      "outputs": [
        {
          "data": {
            "text/plain": [
              "tensor([11, 12, 13])"
            ]
          },
          "execution_count": 116,
          "metadata": {},
          "output_type": "execute_result"
        }
      ],
      "source": [
        "tensor=torch.tensor([1,2,3])\n",
        "tensor+10"
      ]
    },
    {
      "cell_type": "code",
      "execution_count": 117,
      "metadata": {
        "colab": {
          "base_uri": "https://localhost:8080/"
        },
        "id": "Z28m4F9SSTSS",
        "outputId": "feb2f1c5-427b-4b19-f6d0-46ea3874bbed"
      },
      "outputs": [
        {
          "data": {
            "text/plain": [
              "tensor([10, 20, 30])"
            ]
          },
          "execution_count": 117,
          "metadata": {},
          "output_type": "execute_result"
        }
      ],
      "source": [
        "tensor*10"
      ]
    },
    {
      "cell_type": "code",
      "execution_count": 118,
      "metadata": {
        "colab": {
          "base_uri": "https://localhost:8080/"
        },
        "id": "Y7h2TiU7SXCu",
        "outputId": "b6d8f187-8356-4694-e0ac-2fc9029cca13"
      },
      "outputs": [
        {
          "data": {
            "text/plain": [
              "tensor([1, 2, 3])"
            ]
          },
          "execution_count": 118,
          "metadata": {},
          "output_type": "execute_result"
        }
      ],
      "source": [
        "tensor"
      ]
    },
    {
      "cell_type": "code",
      "execution_count": 119,
      "metadata": {
        "colab": {
          "base_uri": "https://localhost:8080/"
        },
        "id": "wiyEzBhPSZAT",
        "outputId": "f6c876cd-eeed-4304-f179-9c467ca4dc9d"
      },
      "outputs": [
        {
          "data": {
            "text/plain": [
              "tensor([2, 3, 4])"
            ]
          },
          "execution_count": 119,
          "metadata": {},
          "output_type": "execute_result"
        }
      ],
      "source": [
        "tensor=tensor+1\n",
        "tensor"
      ]
    },
    {
      "cell_type": "code",
      "execution_count": 120,
      "metadata": {
        "colab": {
          "base_uri": "https://localhost:8080/"
        },
        "id": "K8RMw_D-SbGl",
        "outputId": "713d6e34-96f0-42ed-f32d-7e74254c1c29"
      },
      "outputs": [
        {
          "data": {
            "text/plain": [
              "tensor([-8, -7, -6])"
            ]
          },
          "execution_count": 120,
          "metadata": {},
          "output_type": "execute_result"
        }
      ],
      "source": [
        "tensor-10"
      ]
    },
    {
      "cell_type": "code",
      "execution_count": 121,
      "metadata": {
        "colab": {
          "base_uri": "https://localhost:8080/"
        },
        "id": "A2fjv8cvSgdp",
        "outputId": "8840212f-6952-454e-d066-667c78b4535a"
      },
      "outputs": [
        {
          "data": {
            "text/plain": [
              "tensor([20, 30, 40])"
            ]
          },
          "execution_count": 121,
          "metadata": {},
          "output_type": "execute_result"
        }
      ],
      "source": [
        "torch.multiply(tensor,10)"
      ]
    },
    {
      "cell_type": "code",
      "execution_count": 122,
      "metadata": {
        "colab": {
          "base_uri": "https://localhost:8080/"
        },
        "id": "_kYBCxZOUWOo",
        "outputId": "b1ef2da1-29b1-4c22-cc3f-190272fa316f"
      },
      "outputs": [
        {
          "data": {
            "text/plain": [
              "tensor([2, 3, 4])"
            ]
          },
          "execution_count": 122,
          "metadata": {},
          "output_type": "execute_result"
        }
      ],
      "source": [
        "tensor"
      ]
    },
    {
      "cell_type": "code",
      "execution_count": 123,
      "metadata": {
        "colab": {
          "base_uri": "https://localhost:8080/"
        },
        "id": "p6RUWfoCb8UK",
        "outputId": "6864c2c1-1518-4d2d-863b-5db3788c3804"
      },
      "outputs": [
        {
          "name": "stdout",
          "output_type": "stream",
          "text": [
            "tensor([2, 3, 4]) * tensor([2, 3, 4])\n",
            "Equals: tensor([ 4,  9, 16])\n"
          ]
        }
      ],
      "source": [
        "# Element-wise multiplication (each element multiplies its equivalent, index 0->0, 1->1, 2->2)\n",
        "print(tensor, \"*\", tensor)\n",
        "print(\"Equals:\", tensor * tensor)"
      ]
    },
    {
      "cell_type": "markdown",
      "metadata": {
        "id": "k4uz7GppcBk-"
      },
      "source": [
        "Matrix Multiplication"
      ]
    },
    {
      "cell_type": "code",
      "execution_count": 124,
      "metadata": {
        "colab": {
          "base_uri": "https://localhost:8080/"
        },
        "id": "TNae27J7b_Og",
        "outputId": "3fa42274-73e7-49d0-f994-3d3cd6fcf6a7"
      },
      "outputs": [
        {
          "data": {
            "text/plain": [
              "torch.Size([4])"
            ]
          },
          "execution_count": 124,
          "metadata": {},
          "output_type": "execute_result"
        }
      ],
      "source": [
        "import torch\n",
        "tensor=torch.tensor([1,2,3,4])\n",
        "tensor.shape"
      ]
    },
    {
      "cell_type": "code",
      "execution_count": 125,
      "metadata": {
        "colab": {
          "base_uri": "https://localhost:8080/"
        },
        "id": "OOEeyx2ccJt1",
        "outputId": "9f81bc3d-e626-4882-ad91-53b88f9db161"
      },
      "outputs": [
        {
          "data": {
            "text/plain": [
              "tensor([ 1,  4,  9, 16])"
            ]
          },
          "execution_count": 125,
          "metadata": {},
          "output_type": "execute_result"
        }
      ],
      "source": [
        "# elelment wise multiplication\n",
        "tensor*tensor"
      ]
    },
    {
      "cell_type": "code",
      "execution_count": 126,
      "metadata": {
        "colab": {
          "base_uri": "https://localhost:8080/"
        },
        "id": "LUAXfz_fcaIM",
        "outputId": "be27805a-312e-4a3f-8f52-5060fb1acf1e"
      },
      "outputs": [
        {
          "data": {
            "text/plain": [
              "tensor(30)"
            ]
          },
          "execution_count": 126,
          "metadata": {},
          "output_type": "execute_result"
        }
      ],
      "source": [
        "# Matrix multilication\n",
        "torch.matmul(tensor,tensor)"
      ]
    },
    {
      "cell_type": "code",
      "execution_count": 127,
      "metadata": {
        "colab": {
          "base_uri": "https://localhost:8080/"
        },
        "id": "pfhEfA7ecgPP",
        "outputId": "684e10ed-c86c-4cce-c3a6-313a141dc479"
      },
      "outputs": [
        {
          "data": {
            "text/plain": [
              "tensor(30)"
            ]
          },
          "execution_count": 127,
          "metadata": {},
          "output_type": "execute_result"
        }
      ],
      "source": [
        "# We can also use the \"@\" symbol for matrix multiplication, though not recommended\n",
        "tensor @ tensor"
      ]
    },
    {
      "cell_type": "markdown",
      "metadata": {
        "id": "rWBJFh-zdLYi"
      },
      "source": [
        "time comparison of matrix multiplication"
      ]
    },
    {
      "cell_type": "code",
      "execution_count": 130,
      "metadata": {
        "colab": {
          "base_uri": "https://localhost:8080/"
        },
        "id": "XZhBxZ_2clN9",
        "outputId": "cf3c5930-375c-411d-8312-8a545eba5a7c"
      },
      "outputs": [
        {
          "name": "stdout",
          "output_type": "stream",
          "text": [
            "CPU times: user 2.21 ms, sys: 9 µs, total: 2.22 ms\n",
            "Wall time: 1.84 ms\n"
          ]
        },
        {
          "data": {
            "text/plain": [
              "tensor(30)"
            ]
          },
          "execution_count": 130,
          "metadata": {},
          "output_type": "execute_result"
        }
      ],
      "source": [
        "%%time\n",
        "\n",
        "value=0\n",
        "for i in range(len(tensor)):\n",
        "  value+=tensor[i]*tensor[i]\n",
        "value"
      ]
    },
    {
      "cell_type": "code",
      "execution_count": 131,
      "metadata": {
        "colab": {
          "base_uri": "https://localhost:8080/"
        },
        "id": "ZJabVKTVc4i2",
        "outputId": "35b73b28-b605-41f0-ce30-ec23a9d9a8d6"
      },
      "outputs": [
        {
          "name": "stdout",
          "output_type": "stream",
          "text": [
            "CPU times: user 90 µs, sys: 6 µs, total: 96 µs\n",
            "Wall time: 99.2 µs\n"
          ]
        },
        {
          "data": {
            "text/plain": [
              "tensor(30)"
            ]
          },
          "execution_count": 131,
          "metadata": {},
          "output_type": "execute_result"
        }
      ],
      "source": [
        "%%time\n",
        "torch.matmul(tensor,tensor)"
      ]
    },
    {
      "cell_type": "markdown",
      "metadata": {
        "id": "QLp7ymGodnJN"
      },
      "source": [
        "Matrix multplication most common error"
      ]
    },
    {
      "cell_type": "code",
      "execution_count": 133,
      "metadata": {
        "colab": {
          "base_uri": "https://localhost:8080/",
          "height": 181
        },
        "id": "R6NJQgKSdEpj",
        "outputId": "80694d88-716f-45f2-8197-64f1aa0d9989"
      },
      "outputs": [
        {
          "ename": "RuntimeError",
          "evalue": "mat1 and mat2 shapes cannot be multiplied (3x2 and 3x2)",
          "output_type": "error",
          "traceback": [
            "\u001b[0;31m---------------------------------------------------------------------------\u001b[0m",
            "\u001b[0;31mRuntimeError\u001b[0m                              Traceback (most recent call last)",
            "\u001b[0;32m<ipython-input-133-8ced62cd1868>\u001b[0m in \u001b[0;36m<cell line: 9>\u001b[0;34m()\u001b[0m\n\u001b[1;32m      7\u001b[0m                        [5,6]],dtype=torch.float32)\n\u001b[1;32m      8\u001b[0m \u001b[0;34m\u001b[0m\u001b[0m\n\u001b[0;32m----> 9\u001b[0;31m \u001b[0mtorch\u001b[0m\u001b[0;34m.\u001b[0m\u001b[0mmatmul\u001b[0m\u001b[0;34m(\u001b[0m\u001b[0mtensor_A\u001b[0m\u001b[0;34m,\u001b[0m\u001b[0mtensor_B\u001b[0m\u001b[0;34m)\u001b[0m\u001b[0;34m\u001b[0m\u001b[0;34m\u001b[0m\u001b[0m\n\u001b[0m",
            "\u001b[0;31mRuntimeError\u001b[0m: mat1 and mat2 shapes cannot be multiplied (3x2 and 3x2)"
          ]
        }
      ],
      "source": [
        "tensor_A=torch.tensor([[1,2],\n",
        "                       [3,4],\n",
        "                       [5,6]],dtype=torch.float32)\n",
        "\n",
        "tensor_B=torch.tensor([[1,2],\n",
        "                       [3,4],\n",
        "                       [5,6]],dtype=torch.float32)\n",
        "\n",
        "torch.matmul(tensor_A,tensor_B)"
      ]
    },
    {
      "cell_type": "code",
      "execution_count": 134,
      "metadata": {
        "colab": {
          "base_uri": "https://localhost:8080/"
        },
        "id": "IVNz9zredlzL",
        "outputId": "2a6ecc56-fd12-45bd-f6ec-e600dab2a2f7"
      },
      "outputs": [
        {
          "name": "stdout",
          "output_type": "stream",
          "text": [
            "tensor([[1., 2.],\n",
            "        [3., 4.],\n",
            "        [5., 6.]])\n",
            "tensor([[1., 2.],\n",
            "        [3., 4.],\n",
            "        [5., 6.]])\n"
          ]
        }
      ],
      "source": [
        "print(tensor_A)\n",
        "print(tensor_B)"
      ]
    },
    {
      "cell_type": "code",
      "execution_count": 136,
      "metadata": {
        "colab": {
          "base_uri": "https://localhost:8080/"
        },
        "id": "xauHhMmWd_pX",
        "outputId": "db9dc31a-82b7-4c98-98d3-b1a9621e9c7f"
      },
      "outputs": [
        {
          "name": "stdout",
          "output_type": "stream",
          "text": [
            "tensor([[1., 2.],\n",
            "        [3., 4.],\n",
            "        [5., 6.]])\n",
            "tensor([[1., 3., 5.],\n",
            "        [2., 4., 6.]])\n"
          ]
        }
      ],
      "source": [
        "# view tensor_A and tensor_B.T\n",
        "print(tensor_A)\n",
        "print(tensor_B.T)"
      ]
    },
    {
      "cell_type": "code",
      "execution_count": 137,
      "metadata": {
        "colab": {
          "base_uri": "https://localhost:8080/"
        },
        "id": "Pw-eKcJIeDAU",
        "outputId": "1337e24a-9fc0-4960-9ab9-db910dde25ef"
      },
      "outputs": [
        {
          "name": "stdout",
          "output_type": "stream",
          "text": [
            "Original shapes: tensor_A = torch.Size([3, 2]), tensor_B = torch.Size([3, 2])\n",
            "\n",
            "New shapes: tensor_A = torch.Size([3, 2]) (same as above), tensor_B.T = torch.Size([2, 3])\n",
            "\n",
            "Multiplying: torch.Size([3, 2]) * torch.Size([2, 3]) <- inner dimensions match\n",
            "\n",
            "Output:\n",
            "\n",
            "tensor([[ 5., 11., 17.],\n",
            "        [11., 25., 39.],\n",
            "        [17., 39., 61.]])\n",
            "\n",
            "Output shape: torch.Size([3, 3])\n"
          ]
        }
      ],
      "source": [
        "# The operation works when tensor_B is transposed\n",
        "print(f\"Original shapes: tensor_A = {tensor_A.shape}, tensor_B = {tensor_B.shape}\\n\")\n",
        "print(f\"New shapes: tensor_A = {tensor_A.shape} (same as above), tensor_B.T = {tensor_B.T.shape}\\n\")\n",
        "print(f\"Multiplying: {tensor_A.shape} * {tensor_B.T.shape} <- inner dimensions match\\n\")\n",
        "print(\"Output:\\n\")\n",
        "output = torch.matmul(tensor_A, tensor_B.T)\n",
        "print(output)\n",
        "print(f\"\\nOutput shape: {output.shape}\")"
      ]
    },
    {
      "cell_type": "code",
      "execution_count": 138,
      "metadata": {
        "colab": {
          "base_uri": "https://localhost:8080/"
        },
        "id": "9Zjl0KiiePCj",
        "outputId": "c4019266-acf5-4279-fb07-8682178a11ff"
      },
      "outputs": [
        {
          "data": {
            "text/plain": [
              "tensor([[ 5., 11., 17.],\n",
              "        [11., 25., 39.],\n",
              "        [17., 39., 61.]])"
            ]
          },
          "execution_count": 138,
          "metadata": {},
          "output_type": "execute_result"
        }
      ],
      "source": [
        "# We can also use torch.mm() instead of torch.matmult()\n",
        "torch.mm(tensor_A,tensor_B.T)"
      ]
    },
    {
      "cell_type": "code",
      "execution_count": 139,
      "metadata": {
        "colab": {
          "base_uri": "https://localhost:8080/"
        },
        "id": "9D_7h-DGee9u",
        "outputId": "c9f98690-3320-4a92-e725-df7ad6c8d8dd"
      },
      "outputs": [
        {
          "name": "stdout",
          "output_type": "stream",
          "text": [
            "torch.Size([3, 2])\n",
            "tensor([[2.2368, 1.2292, 0.4714, 0.3864, 0.1309, 0.9838],\n",
            "        [4.4919, 2.1970, 0.4469, 0.5285, 0.3401, 2.4777],\n",
            "        [6.7469, 3.1648, 0.4224, 0.6705, 0.5493, 3.9716]],\n",
            "       grad_fn=<AddmmBackward0>)\n",
            "torch.Size([3, 6])\n"
          ]
        }
      ],
      "source": [
        "torch.manual_seed(42)\n",
        "\n",
        "linear=torch.nn.Linear(in_features=2,out_features=6)\n",
        "\n",
        "x=tensor_A\n",
        "output=linear(x)\n",
        "print(x.shape)\n",
        "print(output)\n",
        "print(output.shape)"
      ]
    },
    {
      "cell_type": "markdown",
      "metadata": {
        "id": "HrBwjit-jtRy"
      },
      "source": [
        "Finding the min,max,mean,sum"
      ]
    },
    {
      "cell_type": "code",
      "execution_count": 142,
      "metadata": {
        "colab": {
          "base_uri": "https://localhost:8080/"
        },
        "id": "ynbk5icXjSkD",
        "outputId": "1ec76ad4-eb36-4c75-84e6-8d223d2d481f"
      },
      "outputs": [
        {
          "data": {
            "text/plain": [
              "tensor([  0, 100, 200, 300, 400, 500, 600, 700, 800, 900])"
            ]
          },
          "execution_count": 142,
          "metadata": {},
          "output_type": "execute_result"
        }
      ],
      "source": [
        "x=torch.arange(0,1000,100)\n",
        "x"
      ]
    },
    {
      "cell_type": "code",
      "execution_count": 144,
      "metadata": {
        "colab": {
          "base_uri": "https://localhost:8080/"
        },
        "id": "WhGJ-_l5j4OQ",
        "outputId": "7999071d-0c78-4fd2-f2ed-7adc98489ba4"
      },
      "outputs": [
        {
          "name": "stdout",
          "output_type": "stream",
          "text": [
            "Minimum : 0\n",
            "Maximum : 900\n",
            "Sum : 4500\n",
            "Mean :450.0\n"
          ]
        }
      ],
      "source": [
        "print(f\"Minimum : {x.min()}\")\n",
        "print(f\"Maximum : {x.max()}\")\n",
        "print(f\"Sum : {x.sum()}\")\n",
        "print(f\"Mean :{x.type(torch.float).mean()}\")"
      ]
    },
    {
      "cell_type": "code",
      "execution_count": 145,
      "metadata": {
        "colab": {
          "base_uri": "https://localhost:8080/"
        },
        "id": "tf2_yOOqkW67",
        "outputId": "05742d0e-4d8d-48b7-d7c9-67b30a7bbc0a"
      },
      "outputs": [
        {
          "data": {
            "text/plain": [
              "(tensor(900), tensor(0), tensor(450.), tensor(4500))"
            ]
          },
          "execution_count": 145,
          "metadata": {},
          "output_type": "execute_result"
        }
      ],
      "source": [
        "torch.max(x),torch.min(x),torch.mean(x.type(torch.float32)),torch.sum(x)"
      ]
    },
    {
      "cell_type": "markdown",
      "metadata": {
        "id": "c3sp69X3kxF2"
      },
      "source": [
        "Positional min/max"
      ]
    },
    {
      "cell_type": "code",
      "execution_count": 149,
      "metadata": {
        "colab": {
          "base_uri": "https://localhost:8080/"
        },
        "id": "k9WTwyWJkunV",
        "outputId": "c56b4c51-613b-434d-d52a-c4ed32b527d4"
      },
      "outputs": [
        {
          "name": "stdout",
          "output_type": "stream",
          "text": [
            "Tensor: tensor([ 10,  20,  30,  40,  50,  60,  70,  80,  90, 100, 110, 120, 130, 140,\n",
            "        150, 160, 170, 180, 190, 200, 210, 220, 230, 240, 250, 260, 270, 280,\n",
            "        290, 300, 310, 320, 330, 340, 350, 360, 370, 380, 390, 400, 410, 420,\n",
            "        430, 440, 450, 460, 470, 480, 490, 500, 510, 520, 530, 540, 550, 560,\n",
            "        570, 580, 590, 600, 610, 620, 630, 640, 650, 660, 670, 680, 690, 700,\n",
            "        710, 720, 730, 740, 750, 760, 770, 780, 790, 800, 810, 820, 830, 840,\n",
            "        850, 860, 870, 880, 890, 900, 910, 920, 930, 940, 950, 960, 970, 980,\n",
            "        990])\n",
            "Index where max value occurs: 98\n",
            "Index where max value occurs: 0\n"
          ]
        }
      ],
      "source": [
        "tensor=torch.arange(10,1000,10)\n",
        "print(f\"Tensor: {tensor}\")\n",
        "\n",
        "# Returns index of max and min values\n",
        "print(f\"Index where max value occurs: {tensor.argmax()}\")\n",
        "print(f\"Index where max value occurs: {tensor.argmin()}\")"
      ]
    },
    {
      "cell_type": "code",
      "execution_count": 150,
      "metadata": {
        "colab": {
          "base_uri": "https://localhost:8080/"
        },
        "id": "xbZForL7l-aO",
        "outputId": "e43d95d2-dffc-41b9-d26c-bb50bc2d3103"
      },
      "outputs": [
        {
          "data": {
            "text/plain": [
              "torch.float32"
            ]
          },
          "execution_count": 150,
          "metadata": {},
          "output_type": "execute_result"
        }
      ],
      "source": [
        "# Create a tensor and check its datatype\n",
        "tensor = torch.arange(10., 100., 10.)\n",
        "tensor.dtype"
      ]
    },
    {
      "cell_type": "code",
      "execution_count": 153,
      "metadata": {
        "colab": {
          "base_uri": "https://localhost:8080/"
        },
        "id": "ix9kKXN9lLfp",
        "outputId": "8048a935-0405-4f07-a62c-cb6289e14327"
      },
      "outputs": [
        {
          "data": {
            "text/plain": [
              "tensor([10., 20., 30., 40., 50., 60., 70., 80., 90.], dtype=torch.float16)"
            ]
          },
          "execution_count": 153,
          "metadata": {},
          "output_type": "execute_result"
        }
      ],
      "source": [
        "# Create a float16 tensor\n",
        "tensor_float16=tensor.type(torch.float16)\n",
        "tensor_float16"
      ]
    },
    {
      "cell_type": "code",
      "execution_count": 154,
      "metadata": {
        "colab": {
          "base_uri": "https://localhost:8080/"
        },
        "id": "s31zGlexmCl5",
        "outputId": "f8dd0ee8-9007-4fff-ddbf-dae77ad63c59"
      },
      "outputs": [
        {
          "data": {
            "text/plain": [
              "tensor([10, 20, 30, 40, 50, 60, 70, 80, 90], dtype=torch.int8)"
            ]
          },
          "execution_count": 154,
          "metadata": {},
          "output_type": "execute_result"
        }
      ],
      "source": [
        "# create an int8 tensor\n",
        "tensor_int8=tensor.type(torch.int8)\n",
        "tensor_int8"
      ]
    },
    {
      "cell_type": "markdown",
      "metadata": {
        "id": "ViCKJttSptIJ"
      },
      "source": [
        "Reshaping, stacking , squeezing and unsequeezing"
      ]
    },
    {
      "cell_type": "code",
      "execution_count": 161,
      "metadata": {
        "colab": {
          "base_uri": "https://localhost:8080/"
        },
        "id": "K3GHah6KmTnV",
        "outputId": "ea68be8f-7124-4b5a-c9cc-5bf1ffa45193"
      },
      "outputs": [
        {
          "data": {
            "text/plain": [
              "(tensor([1., 2., 3., 4., 5., 6., 7., 8.]), torch.Size([8]))"
            ]
          },
          "execution_count": 161,
          "metadata": {},
          "output_type": "execute_result"
        }
      ],
      "source": [
        "import torch\n",
        "x=torch.arange(1.,9.)\n",
        "x,x.shape"
      ]
    },
    {
      "cell_type": "code",
      "execution_count": 163,
      "metadata": {
        "colab": {
          "base_uri": "https://localhost:8080/"
        },
        "id": "4Oqx3lupp7ib",
        "outputId": "3d7b53fc-5ae8-4dee-efd5-e5cc3911e7d7"
      },
      "outputs": [
        {
          "data": {
            "text/plain": [
              "(tensor([[1., 2., 3., 4., 5., 6., 7., 8.]]), torch.Size([1, 8]))"
            ]
          },
          "execution_count": 163,
          "metadata": {},
          "output_type": "execute_result"
        }
      ],
      "source": [
        "# add an extra dimension\n",
        "x_reshaped=x.reshape(1,8)\n",
        "x_reshaped,x_reshaped.shape"
      ]
    },
    {
      "cell_type": "code",
      "execution_count": 164,
      "metadata": {
        "id": "Kd187pgzqF4I"
      },
      "outputs": [],
      "source": [
        "z=x.view(8,1) # we can also change the view by passing the dimesion in which we want to see"
      ]
    },
    {
      "cell_type": "code",
      "execution_count": 165,
      "metadata": {
        "colab": {
          "base_uri": "https://localhost:8080/"
        },
        "id": "eV6BoielqMPp",
        "outputId": "1e071095-0687-4814-9f6e-3679c984bdfd"
      },
      "outputs": [
        {
          "data": {
            "text/plain": [
              "tensor([[1.],\n",
              "        [2.],\n",
              "        [3.],\n",
              "        [4.],\n",
              "        [5.],\n",
              "        [6.],\n",
              "        [7.],\n",
              "        [8.]])"
            ]
          },
          "execution_count": 165,
          "metadata": {},
          "output_type": "execute_result"
        }
      ],
      "source": [
        "z"
      ]
    },
    {
      "cell_type": "code",
      "execution_count": 167,
      "metadata": {
        "colab": {
          "base_uri": "https://localhost:8080/"
        },
        "id": "Ov9Miv5bqM-f",
        "outputId": "07a6ec46-22e8-442f-9139-f02c3d483fac"
      },
      "outputs": [
        {
          "data": {
            "text/plain": [
              "tensor([[1., 2., 3., 4.],\n",
              "        [5., 6., 7., 8.]])"
            ]
          },
          "execution_count": 167,
          "metadata": {},
          "output_type": "execute_result"
        }
      ],
      "source": [
        "z=x.view(2,4)\n",
        "z"
      ]
    },
    {
      "cell_type": "code",
      "execution_count": 168,
      "metadata": {
        "colab": {
          "base_uri": "https://localhost:8080/"
        },
        "id": "vyCDMSPiqaEp",
        "outputId": "b912706a-b010-44d4-da56-5fcdbab7676c"
      },
      "outputs": [
        {
          "data": {
            "text/plain": [
              "tensor([[5., 2., 3., 4.],\n",
              "        [5., 6., 7., 8.]])"
            ]
          },
          "execution_count": 168,
          "metadata": {},
          "output_type": "execute_result"
        }
      ],
      "source": [
        "z[0][0]=5.\n",
        "z"
      ]
    },
    {
      "cell_type": "code",
      "execution_count": 170,
      "metadata": {
        "colab": {
          "base_uri": "https://localhost:8080/"
        },
        "id": "-lIZnjc8qu9F",
        "outputId": "1ff53946-bd5d-43a9-d927-284a0e3c1b2d"
      },
      "outputs": [
        {
          "data": {
            "text/plain": [
              "tensor([[5., 2., 3., 4., 5., 6., 7., 8.],\n",
              "        [5., 2., 3., 4., 5., 6., 7., 8.],\n",
              "        [5., 2., 3., 4., 5., 6., 7., 8.],\n",
              "        [5., 2., 3., 4., 5., 6., 7., 8.],\n",
              "        [5., 2., 3., 4., 5., 6., 7., 8.],\n",
              "        [5., 2., 3., 4., 5., 6., 7., 8.]])"
            ]
          },
          "execution_count": 170,
          "metadata": {},
          "output_type": "execute_result"
        }
      ],
      "source": [
        "# stack\n",
        "x_stacked=torch.stack([x,x,x,x,x,x],dim=0)\n",
        "x_stacked"
      ]
    },
    {
      "cell_type": "code",
      "execution_count": 171,
      "metadata": {
        "colab": {
          "base_uri": "https://localhost:8080/"
        },
        "id": "9OPk9NNXq_Vd",
        "outputId": "dcd4a359-d338-472a-a86e-260ab1acf5f0"
      },
      "outputs": [
        {
          "data": {
            "text/plain": [
              "tensor([[5., 5., 5., 5., 5., 5.],\n",
              "        [2., 2., 2., 2., 2., 2.],\n",
              "        [3., 3., 3., 3., 3., 3.],\n",
              "        [4., 4., 4., 4., 4., 4.],\n",
              "        [5., 5., 5., 5., 5., 5.],\n",
              "        [6., 6., 6., 6., 6., 6.],\n",
              "        [7., 7., 7., 7., 7., 7.],\n",
              "        [8., 8., 8., 8., 8., 8.]])"
            ]
          },
          "execution_count": 171,
          "metadata": {},
          "output_type": "execute_result"
        }
      ],
      "source": [
        "#stack\n",
        "x_stacked=torch.stack([x,x,x,x,x,x],dim=1)\n",
        "x_stacked"
      ]
    },
    {
      "cell_type": "code",
      "execution_count": 172,
      "metadata": {
        "colab": {
          "base_uri": "https://localhost:8080/"
        },
        "id": "Jf3bHyYbrIHw",
        "outputId": "b07dcbbf-b02a-4f73-c9a8-75e2264fbfbd"
      },
      "outputs": [
        {
          "data": {
            "text/plain": [
              "tensor([[5., 2., 3., 4., 5., 6., 7., 8.],\n",
              "        [5., 2., 3., 4., 5., 6., 7., 8.],\n",
              "        [5., 2., 3., 4., 5., 6., 7., 8.],\n",
              "        [5., 2., 3., 4., 5., 6., 7., 8.],\n",
              "        [5., 2., 3., 4., 5., 6., 7., 8.],\n",
              "        [5., 2., 3., 4., 5., 6., 7., 8.]])"
            ]
          },
          "execution_count": 172,
          "metadata": {},
          "output_type": "execute_result"
        }
      ],
      "source": [
        "x_stacked=torch.stack([x,x,x,x,x,x])\n",
        "x_stacked"
      ]
    },
    {
      "cell_type": "code",
      "execution_count": 174,
      "metadata": {
        "colab": {
          "base_uri": "https://localhost:8080/"
        },
        "id": "Mb4TCxFWrOdA",
        "outputId": "ebeded48-897d-4194-9aa9-828cd6cf292f"
      },
      "outputs": [
        {
          "name": "stdout",
          "output_type": "stream",
          "text": [
            "Previous tensor: tensor([[5., 2., 3., 4., 5., 6., 7., 8.]])\n",
            "Previous shape : torch.Size([1, 8])\n",
            "\n",
            "New tensor: tensor([5., 2., 3., 4., 5., 6., 7., 8.])\n",
            "New shape: torch.Size([8])\n"
          ]
        }
      ],
      "source": [
        "print(f\"Previous tensor: {x_reshaped}\")\n",
        "print(f\"Previous shape : {x_reshaped.shape}\")\n",
        "\n",
        "# Remove extra dimension form x_reshaped\n",
        "x_squeezed=x_reshaped.squeeze()\n",
        "print(f\"\\nNew tensor: {x_squeezed}\")\n",
        "print(f\"New shape: {x_squeezed.shape}\")"
      ]
    },
    {
      "cell_type": "code",
      "execution_count": 177,
      "metadata": {
        "colab": {
          "base_uri": "https://localhost:8080/"
        },
        "id": "-IgXkf0Nre77",
        "outputId": "c188e81e-44b9-4d17-a7a3-82189eed7f45"
      },
      "outputs": [
        {
          "name": "stdout",
          "output_type": "stream",
          "text": [
            "Previous tensor: tensor([5., 2., 3., 4., 5., 6., 7., 8.])\n",
            "Previous shape: torch.Size([8])\n",
            "\n",
            "New tensor: tensor([[5., 2., 3., 4., 5., 6., 7., 8.]])\n",
            "New shape: torch.Size([1, 8])\n"
          ]
        }
      ],
      "source": [
        "# unsqueeze\n",
        "\n",
        "print(f\"Previous tensor: {x_squeezed}\")\n",
        "print(f\"Previous shape: {x_squeezed.shape}\")\n",
        "\n",
        "## Add an extra dimension with unsqueeze\n",
        "x_unsqueezed = x_squeezed.unsqueeze(dim=0)\n",
        "print(f\"\\nNew tensor: {x_unsqueezed}\")\n",
        "print(f\"New shape: {x_unsqueezed.shape}\")"
      ]
    },
    {
      "cell_type": "code",
      "execution_count": 178,
      "metadata": {
        "colab": {
          "base_uri": "https://localhost:8080/"
        },
        "id": "nG3RM6E0sEQG",
        "outputId": "7ff91597-f9ce-449a-8919-c8b68a5062c3"
      },
      "outputs": [
        {
          "name": "stdout",
          "output_type": "stream",
          "text": [
            "Previous tensor: tensor([5., 2., 3., 4., 5., 6., 7., 8.])\n",
            "Previous shape: torch.Size([8])\n",
            "\n",
            "New tensor: tensor([[5.],\n",
            "        [2.],\n",
            "        [3.],\n",
            "        [4.],\n",
            "        [5.],\n",
            "        [6.],\n",
            "        [7.],\n",
            "        [8.]])\n",
            "New shape: torch.Size([8, 1])\n"
          ]
        }
      ],
      "source": [
        "print(f\"Previous tensor: {x_squeezed}\")\n",
        "print(f\"Previous shape: {x_squeezed.shape}\")\n",
        "\n",
        "## Add an extra dimension with unsqueeze\n",
        "x_unsqueezed = x_squeezed.unsqueeze(dim=1)\n",
        "print(f\"\\nNew tensor: {x_unsqueezed}\")\n",
        "print(f\"New shape: {x_unsqueezed.shape}\")"
      ]
    },
    {
      "cell_type": "code",
      "execution_count": 179,
      "metadata": {
        "colab": {
          "base_uri": "https://localhost:8080/"
        },
        "id": "2dFkA1QZsIfl",
        "outputId": "79cc7c8d-7859-47bb-8f8b-27c2bd4670e1"
      },
      "outputs": [
        {
          "name": "stdout",
          "output_type": "stream",
          "text": [
            "Previous shaope: torch.Size([224, 224, 3])\n",
            "New shape: torch.Size([3, 224, 224])\n"
          ]
        }
      ],
      "source": [
        "# Permute\n",
        "x=torch.rand(size=(224,224,3))\n",
        "x_permuted=x.permute(2,0,1)\n",
        "print(f\"Previous shaope: {x.shape}\")\n",
        "print(f\"New shape: {x_permuted.shape}\")"
      ]
    },
    {
      "cell_type": "markdown",
      "metadata": {
        "id": "Qwc7QZajtHZQ"
      },
      "source": [
        "Indexing(select data from tensors)"
      ]
    },
    {
      "cell_type": "code",
      "execution_count": 1,
      "metadata": {
        "colab": {
          "base_uri": "https://localhost:8080/"
        },
        "id": "FjAfLmMPsx3c",
        "outputId": "3a3f9a75-2a6f-4130-9443-22c967696b91"
      },
      "outputs": [
        {
          "data": {
            "text/plain": [
              "(tensor([[[1, 2, 3],\n",
              "          [4, 5, 6],\n",
              "          [7, 8, 9]]]),\n",
              " torch.Size([1, 3, 3]))"
            ]
          },
          "execution_count": 1,
          "metadata": {},
          "output_type": "execute_result"
        }
      ],
      "source": [
        "import torch\n",
        "x=torch.arange(1,10)\n",
        "x=x.reshape(1,3,3)\n",
        "x,x.shape"
      ]
    },
    {
      "cell_type": "code",
      "execution_count": 2,
      "metadata": {
        "colab": {
          "base_uri": "https://localhost:8080/"
        },
        "id": "2O46lWB92yx3",
        "outputId": "87cbb6b9-ee8b-47a9-c8f1-b37ee0ac815a"
      },
      "outputs": [
        {
          "name": "stdout",
          "output_type": "stream",
          "text": [
            "First square bracket:\n",
            "tensor([[1, 2, 3],\n",
            "        [4, 5, 6],\n",
            "        [7, 8, 9]])\n",
            "Second square bracket: tensor([1, 2, 3])\n",
            "Third square bracket: 1\n"
          ]
        }
      ],
      "source": [
        "# Let's index bracket by bracket\n",
        "print(f\"First square bracket:\\n{x[0]}\")\n",
        "print(f\"Second square bracket: {x[0][0]}\")\n",
        "print(f\"Third square bracket: {x[0][0][0]}\")"
      ]
    },
    {
      "cell_type": "code",
      "execution_count": 3,
      "metadata": {
        "colab": {
          "base_uri": "https://localhost:8080/"
        },
        "id": "11pqdOxA26v5",
        "outputId": "9db945b3-97b0-4523-95c5-f2f149c433d2"
      },
      "outputs": [
        {
          "data": {
            "text/plain": [
              "tensor([[1, 2, 3]])"
            ]
          },
          "execution_count": 3,
          "metadata": {},
          "output_type": "execute_result"
        }
      ],
      "source": [
        "# Get all values of 0th dimension and the 0 index of 1st dimension\n",
        "x[:, 0]"
      ]
    },
    {
      "cell_type": "code",
      "execution_count": 4,
      "metadata": {
        "colab": {
          "base_uri": "https://localhost:8080/"
        },
        "id": "FEo0AXlR3Jug",
        "outputId": "eb6ec335-d453-4974-a0ce-c19280688687"
      },
      "outputs": [
        {
          "data": {
            "text/plain": [
              "tensor([[2, 5, 8]])"
            ]
          },
          "execution_count": 4,
          "metadata": {},
          "output_type": "execute_result"
        }
      ],
      "source": [
        "# Get all values of 0th & 1st dimensions but only index 1 of 2nd dimension\n",
        "x[:, :, 1]"
      ]
    },
    {
      "cell_type": "code",
      "execution_count": 5,
      "metadata": {
        "colab": {
          "base_uri": "https://localhost:8080/"
        },
        "id": "J-pc3lF33NFU",
        "outputId": "bd779ac6-ec8f-4a93-877e-c3055b3da980"
      },
      "outputs": [
        {
          "data": {
            "text/plain": [
              "tensor([5])"
            ]
          },
          "execution_count": 5,
          "metadata": {},
          "output_type": "execute_result"
        }
      ],
      "source": [
        "# Get all values of the 0 dimension but only the 1 index value of the 1st and 2nd dimension\n",
        "x[:, 1, 1]"
      ]
    },
    {
      "cell_type": "code",
      "execution_count": 6,
      "metadata": {
        "colab": {
          "base_uri": "https://localhost:8080/"
        },
        "id": "q_Yb-fmT3Sag",
        "outputId": "05585b78-23eb-4584-9b89-42abc7ba245a"
      },
      "outputs": [
        {
          "data": {
            "text/plain": [
              "tensor([1, 2, 3])"
            ]
          },
          "execution_count": 6,
          "metadata": {},
          "output_type": "execute_result"
        }
      ],
      "source": [
        "# Get index 0 of 0th and 1st dimension and all values of 2nd dimension\n",
        "x[0, 0, :] # same as x[0][0]"
      ]
    },
    {
      "cell_type": "markdown",
      "metadata": {
        "id": "6obrjdc23Xdv"
      },
      "source": [
        "Pytorch tensors and NumPy"
      ]
    },
    {
      "cell_type": "code",
      "execution_count": 9,
      "metadata": {
        "colab": {
          "base_uri": "https://localhost:8080/"
        },
        "id": "knqurQ6y3VgL",
        "outputId": "34c6b8d2-8bdd-4290-f193-7ccb12194281"
      },
      "outputs": [
        {
          "data": {
            "text/plain": [
              "(array([1., 2., 3., 4., 5., 6., 7.]),\n",
              " tensor([1., 2., 3., 4., 5., 6., 7.], dtype=torch.float64))"
            ]
          },
          "execution_count": 9,
          "metadata": {},
          "output_type": "execute_result"
        }
      ],
      "source": [
        "import torch\n",
        "import numpy as np\n",
        "array=np.arange(1.0,8.0)\n",
        "tensor=torch.from_numpy(array) # numpy to tensor\n",
        "array,tensor"
      ]
    },
    {
      "cell_type": "markdown",
      "metadata": {
        "id": "bhxFe2aZ35aa"
      },
      "source": [
        "Note: By default, NumPy arrays are created with the datatype float64 and if you convert it to a PyTorch tensor, it'll keep the same datatype (as above).\n",
        "\n",
        "However, many PyTorch calculations default to using float32.\n",
        "\n",
        "So if you want to convert your NumPy array (float64) -> PyTorch tensor (float64) -> PyTorch tensor (float32), you can use tensor = torch.from_numpy(array).type(torch.float32)."
      ]
    },
    {
      "cell_type": "code",
      "execution_count": 12,
      "metadata": {
        "colab": {
          "base_uri": "https://localhost:8080/"
        },
        "id": "keOkgrlb3vEC",
        "outputId": "684c5c7e-aa17-43a8-81a2-77d898a67982"
      },
      "outputs": [
        {
          "data": {
            "text/plain": [
              "(tensor([1., 2., 3., 4., 5., 6., 7.]), torch.float32)"
            ]
          },
          "execution_count": 12,
          "metadata": {},
          "output_type": "execute_result"
        }
      ],
      "source": [
        "tensor=torch.from_numpy(array).type(torch.float32)\n",
        "tensor,tensor.dtype"
      ]
    },
    {
      "cell_type": "code",
      "execution_count": 13,
      "metadata": {
        "colab": {
          "base_uri": "https://localhost:8080/"
        },
        "id": "YGNnv89x4Hoy",
        "outputId": "60b0a94a-01c3-4e4b-ea15-894d07b0212c"
      },
      "outputs": [
        {
          "data": {
            "text/plain": [
              "(tensor([1., 1., 1., 1., 1., 1., 1., 1., 1., 1.]),\n",
              " array([1., 1., 1., 1., 1., 1., 1., 1., 1., 1.], dtype=float32))"
            ]
          },
          "execution_count": 13,
          "metadata": {},
          "output_type": "execute_result"
        }
      ],
      "source": [
        "# tensor to numpy\n",
        "tensor=torch.ones(10)\n",
        "numpy_array=tensor.numpy()\n",
        "tensor,numpy_array"
      ]
    },
    {
      "cell_type": "markdown",
      "metadata": {
        "id": "jrXXobVa6c5V"
      },
      "source": [
        "Reproducibility"
      ]
    },
    {
      "cell_type": "code",
      "execution_count": 14,
      "metadata": {
        "colab": {
          "base_uri": "https://localhost:8080/"
        },
        "id": "NzyeRBdU4dcI",
        "outputId": "f449a65b-c16c-438c-e14a-3b24077a3e25"
      },
      "outputs": [
        {
          "name": "stdout",
          "output_type": "stream",
          "text": [
            "DOes Tensor A equals to B? \n"
          ]
        },
        {
          "data": {
            "text/plain": [
              "tensor([[False, False, False, False],\n",
              "        [False, False, False, False],\n",
              "        [False, False, False, False]])"
            ]
          },
          "execution_count": 14,
          "metadata": {},
          "output_type": "execute_result"
        }
      ],
      "source": [
        "import torch\n",
        "\n",
        "A=torch.rand(3,4)\n",
        "B=torch.rand(3,4)\n",
        "\n",
        "print(f\"DOes Tensor A equals to B? \")\n",
        "A==B"
      ]
    },
    {
      "cell_type": "code",
      "execution_count": 17,
      "metadata": {
        "colab": {
          "base_uri": "https://localhost:8080/"
        },
        "id": "N_5aIW-_6q7K",
        "outputId": "28683a13-73a3-4aa1-e5ae-29870969d97c"
      },
      "outputs": [
        {
          "name": "stdout",
          "output_type": "stream",
          "text": [
            "Tensor C:\n",
            "tensor([[0.8054, 0.1990, 0.9759, 0.1028],\n",
            "        [0.3475, 0.1554, 0.8856, 0.6876],\n",
            "        [0.2506, 0.1133, 0.2105, 0.4035]])\n",
            "\n",
            "Tensor D:\n",
            "tensor([[0.8054, 0.1990, 0.9759, 0.1028],\n",
            "        [0.3475, 0.1554, 0.8856, 0.6876],\n",
            "        [0.2506, 0.1133, 0.2105, 0.4035]])\n",
            "\n",
            "Does Tensor C equal Tensor D? (anywhere)\n"
          ]
        },
        {
          "data": {
            "text/plain": [
              "tensor([[True, True, True, True],\n",
              "        [True, True, True, True],\n",
              "        [True, True, True, True]])"
            ]
          },
          "execution_count": 17,
          "metadata": {},
          "output_type": "execute_result"
        }
      ],
      "source": [
        "import torch\n",
        "import random\n",
        "\n",
        "# Set the random seed\n",
        "RANDOM_SEED=420 # try changing this to different values and see what happens to the numbers below\n",
        "torch.manual_seed(seed=RANDOM_SEED)\n",
        "random_tensor_C = torch.rand(3, 4)\n",
        "\n",
        "# Have to reset the seed every time a new rand() is called\n",
        "# Without this, tensor_D would be different to tensor_C\n",
        "torch.random.manual_seed(seed=RANDOM_SEED) # try commenting this line out and seeing what happens\n",
        "random_tensor_D = torch.rand(3, 4)\n",
        "\n",
        "print(f\"Tensor C:\\n{random_tensor_C}\\n\")\n",
        "print(f\"Tensor D:\\n{random_tensor_D}\\n\")\n",
        "print(f\"Does Tensor C equal Tensor D? (anywhere)\")\n",
        "random_tensor_C == random_tensor_D"
      ]
    },
    {
      "cell_type": "code",
      "execution_count": 1,
      "metadata": {
        "colab": {
          "base_uri": "https://localhost:8080/"
        },
        "id": "X_K_2odd6whV",
        "outputId": "c4a34d98-4b52-4706-9964-f5a0adb4fa5c"
      },
      "outputs": [
        {
          "name": "stderr",
          "output_type": "stream",
          "text": [
            "'nvidia-smi' is not recognized as an internal or external command,\n",
            "operable program or batch file.\n"
          ]
        }
      ],
      "source": [
        "!nvidia-smi"
      ]
    },
    {
      "cell_type": "code",
      "execution_count": 2,
      "metadata": {
        "colab": {
          "base_uri": "https://localhost:8080/"
        },
        "id": "pdPBNryy7qBi",
        "outputId": "3c20dea7-32d9-4373-f02d-55b037dd253f"
      },
      "outputs": [
        {
          "data": {
            "text/plain": [
              "True"
            ]
          },
          "execution_count": 2,
          "metadata": {},
          "output_type": "execute_result"
        }
      ],
      "source": [
        "# check for GPU\n",
        "import torch\n",
        "torch.cuda.is_available()"
      ]
    },
    {
      "cell_type": "code",
      "execution_count": 3,
      "metadata": {
        "colab": {
          "base_uri": "https://localhost:8080/",
          "height": 36
        },
        "id": "Idd4jB_77_hJ",
        "outputId": "6a50ab6f-6d83-457f-b3c6-49d735da8d53"
      },
      "outputs": [
        {
          "data": {
            "application/vnd.google.colaboratory.intrinsic+json": {
              "type": "string"
            },
            "text/plain": [
              "'cuda'"
            ]
          },
          "execution_count": 3,
          "metadata": {},
          "output_type": "execute_result"
        }
      ],
      "source": [
        "#set the device type\n",
        "device=\"cuda\" if torch.cuda.is_available() else \"cpu\"\n",
        "device"
      ]
    },
    {
      "cell_type": "code",
      "execution_count": 4,
      "metadata": {
        "colab": {
          "base_uri": "https://localhost:8080/"
        },
        "id": "mvDybyAs8MT-",
        "outputId": "eb07e82e-e6b2-4ac8-efb4-14625d804e35"
      },
      "outputs": [
        {
          "data": {
            "text/plain": [
              "1"
            ]
          },
          "execution_count": 4,
          "metadata": {},
          "output_type": "execute_result"
        }
      ],
      "source": [
        "# count the number of devices\n",
        "torch.cuda.device_count()"
      ]
    },
    {
      "cell_type": "code",
      "execution_count": null,
      "metadata": {
        "id": "b6Q8cn3Q8UEn"
      },
      "outputs": [],
      "source": []
    }
  ],
  "metadata": {
    "accelerator": "GPU",
    "colab": {
      "gpuType": "T4",
      "provenance": []
    },
    "kernelspec": {
      "display_name": "Python 3",
      "name": "python3"
    },
    "language_info": {
      "codemirror_mode": {
        "name": "ipython",
        "version": 3
      },
      "file_extension": ".py",
      "mimetype": "text/x-python",
      "name": "python",
      "nbconvert_exporter": "python",
      "pygments_lexer": "ipython3",
      "version": "3.13.0"
    }
  },
  "nbformat": 4,
  "nbformat_minor": 0
}
